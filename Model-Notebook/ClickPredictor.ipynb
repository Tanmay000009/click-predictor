{
  "nbformat": 4,
  "nbformat_minor": 0,
  "metadata": {
    "colab": {
      "name": "ClickPredictor.ipynb",
      "provenance": [],
      "collapsed_sections": []
    },
    "kernelspec": {
      "name": "python3",
      "display_name": "Python 3"
    },
    "language_info": {
      "name": "python"
    }
  },
  "cells": [
    {
      "cell_type": "code",
      "metadata": {
        "colab": {
          "base_uri": "https://localhost:8080/",
          "height": 437
        },
        "id": "IrB1Shp8KrbO",
        "outputId": "4acc197b-00a1-4a06-b11f-c6d190b0309f"
      },
      "source": [
        "import pandas as pd\n",
        "from matplotlib import pyplot as plt\n",
        "import seaborn as sns\n",
        "import numpy as np\n",
        "from matplotlib import style\n",
        "from sklearn import impute\n",
        "DATA = pd.read_csv(\"/content/drive/MyDrive/train_.csv\",index_col=\"Unnamed: 0\")\n",
        "DATA"
      ],
      "execution_count": 2,
      "outputs": [
        {
          "output_type": "execute_result",
          "data": {
            "text/html": [
              "<div>\n",
              "<style scoped>\n",
              "    .dataframe tbody tr th:only-of-type {\n",
              "        vertical-align: middle;\n",
              "    }\n",
              "\n",
              "    .dataframe tbody tr th {\n",
              "        vertical-align: top;\n",
              "    }\n",
              "\n",
              "    .dataframe thead th {\n",
              "        text-align: right;\n",
              "    }\n",
              "</style>\n",
              "<table border=\"1\" class=\"dataframe\">\n",
              "  <thead>\n",
              "    <tr style=\"text-align: right;\">\n",
              "      <th></th>\n",
              "      <th>id</th>\n",
              "      <th>click</th>\n",
              "      <th>hour</th>\n",
              "      <th>C1</th>\n",
              "      <th>banner_pos</th>\n",
              "      <th>site_id</th>\n",
              "      <th>site_domain</th>\n",
              "      <th>site_category</th>\n",
              "      <th>app_id</th>\n",
              "      <th>app_domain</th>\n",
              "      <th>app_category</th>\n",
              "      <th>device_id</th>\n",
              "      <th>device_ip</th>\n",
              "      <th>device_model</th>\n",
              "      <th>device_type</th>\n",
              "      <th>device_conn_type</th>\n",
              "      <th>C14</th>\n",
              "      <th>C15</th>\n",
              "      <th>C16</th>\n",
              "      <th>C17</th>\n",
              "      <th>C18</th>\n",
              "      <th>C19</th>\n",
              "      <th>C20</th>\n",
              "      <th>C21</th>\n",
              "    </tr>\n",
              "  </thead>\n",
              "  <tbody>\n",
              "    <tr>\n",
              "      <th>0</th>\n",
              "      <td>1.000009e+18</td>\n",
              "      <td>0</td>\n",
              "      <td>14102100</td>\n",
              "      <td>1005</td>\n",
              "      <td>0</td>\n",
              "      <td>1fbe01fe</td>\n",
              "      <td>f3845767</td>\n",
              "      <td>28905ebd</td>\n",
              "      <td>ecad2386</td>\n",
              "      <td>7801e8d9</td>\n",
              "      <td>07d7df22</td>\n",
              "      <td>a99f214a</td>\n",
              "      <td>ddd2926e</td>\n",
              "      <td>44956a24</td>\n",
              "      <td>1</td>\n",
              "      <td>2</td>\n",
              "      <td>15706</td>\n",
              "      <td>320</td>\n",
              "      <td>50</td>\n",
              "      <td>1722</td>\n",
              "      <td>0</td>\n",
              "      <td>35</td>\n",
              "      <td>-1</td>\n",
              "      <td>79</td>\n",
              "    </tr>\n",
              "    <tr>\n",
              "      <th>1</th>\n",
              "      <td>1.000017e+19</td>\n",
              "      <td>0</td>\n",
              "      <td>14102100</td>\n",
              "      <td>1005</td>\n",
              "      <td>0</td>\n",
              "      <td>1fbe01fe</td>\n",
              "      <td>f3845767</td>\n",
              "      <td>28905ebd</td>\n",
              "      <td>ecad2386</td>\n",
              "      <td>7801e8d9</td>\n",
              "      <td>07d7df22</td>\n",
              "      <td>a99f214a</td>\n",
              "      <td>96809ac8</td>\n",
              "      <td>711ee120</td>\n",
              "      <td>1</td>\n",
              "      <td>0</td>\n",
              "      <td>15704</td>\n",
              "      <td>320</td>\n",
              "      <td>50</td>\n",
              "      <td>1722</td>\n",
              "      <td>0</td>\n",
              "      <td>35</td>\n",
              "      <td>100084</td>\n",
              "      <td>79</td>\n",
              "    </tr>\n",
              "    <tr>\n",
              "      <th>2</th>\n",
              "      <td>1.000037e+19</td>\n",
              "      <td>0</td>\n",
              "      <td>14102100</td>\n",
              "      <td>1005</td>\n",
              "      <td>0</td>\n",
              "      <td>1fbe01fe</td>\n",
              "      <td>f3845767</td>\n",
              "      <td>28905ebd</td>\n",
              "      <td>ecad2386</td>\n",
              "      <td>7801e8d9</td>\n",
              "      <td>07d7df22</td>\n",
              "      <td>a99f214a</td>\n",
              "      <td>b3cf8def</td>\n",
              "      <td>8a4875bd</td>\n",
              "      <td>1</td>\n",
              "      <td>0</td>\n",
              "      <td>15704</td>\n",
              "      <td>320</td>\n",
              "      <td>50</td>\n",
              "      <td>1722</td>\n",
              "      <td>0</td>\n",
              "      <td>35</td>\n",
              "      <td>100084</td>\n",
              "      <td>79</td>\n",
              "    </tr>\n",
              "    <tr>\n",
              "      <th>3</th>\n",
              "      <td>1.000064e+19</td>\n",
              "      <td>0</td>\n",
              "      <td>14102100</td>\n",
              "      <td>1005</td>\n",
              "      <td>0</td>\n",
              "      <td>1fbe01fe</td>\n",
              "      <td>f3845767</td>\n",
              "      <td>28905ebd</td>\n",
              "      <td>ecad2386</td>\n",
              "      <td>7801e8d9</td>\n",
              "      <td>07d7df22</td>\n",
              "      <td>a99f214a</td>\n",
              "      <td>e8275b8f</td>\n",
              "      <td>6332421a</td>\n",
              "      <td>1</td>\n",
              "      <td>0</td>\n",
              "      <td>15706</td>\n",
              "      <td>320</td>\n",
              "      <td>50</td>\n",
              "      <td>1722</td>\n",
              "      <td>0</td>\n",
              "      <td>35</td>\n",
              "      <td>100084</td>\n",
              "      <td>79</td>\n",
              "    </tr>\n",
              "    <tr>\n",
              "      <th>4</th>\n",
              "      <td>1.000068e+19</td>\n",
              "      <td>0</td>\n",
              "      <td>14102100</td>\n",
              "      <td>1005</td>\n",
              "      <td>1</td>\n",
              "      <td>fe8cc448</td>\n",
              "      <td>9166c161</td>\n",
              "      <td>0569f928</td>\n",
              "      <td>ecad2386</td>\n",
              "      <td>7801e8d9</td>\n",
              "      <td>07d7df22</td>\n",
              "      <td>a99f214a</td>\n",
              "      <td>9644d0bf</td>\n",
              "      <td>779d90c2</td>\n",
              "      <td>1</td>\n",
              "      <td>0</td>\n",
              "      <td>18993</td>\n",
              "      <td>320</td>\n",
              "      <td>50</td>\n",
              "      <td>2161</td>\n",
              "      <td>0</td>\n",
              "      <td>35</td>\n",
              "      <td>-1</td>\n",
              "      <td>157</td>\n",
              "    </tr>\n",
              "    <tr>\n",
              "      <th>...</th>\n",
              "      <td>...</td>\n",
              "      <td>...</td>\n",
              "      <td>...</td>\n",
              "      <td>...</td>\n",
              "      <td>...</td>\n",
              "      <td>...</td>\n",
              "      <td>...</td>\n",
              "      <td>...</td>\n",
              "      <td>...</td>\n",
              "      <td>...</td>\n",
              "      <td>...</td>\n",
              "      <td>...</td>\n",
              "      <td>...</td>\n",
              "      <td>...</td>\n",
              "      <td>...</td>\n",
              "      <td>...</td>\n",
              "      <td>...</td>\n",
              "      <td>...</td>\n",
              "      <td>...</td>\n",
              "      <td>...</td>\n",
              "      <td>...</td>\n",
              "      <td>...</td>\n",
              "      <td>...</td>\n",
              "      <td>...</td>\n",
              "    </tr>\n",
              "    <tr>\n",
              "      <th>499995</th>\n",
              "      <td>1.311196e+19</td>\n",
              "      <td>0</td>\n",
              "      <td>14102103</td>\n",
              "      <td>1005</td>\n",
              "      <td>0</td>\n",
              "      <td>85f751fd</td>\n",
              "      <td>c4e18dd6</td>\n",
              "      <td>50e219e0</td>\n",
              "      <td>53de0284</td>\n",
              "      <td>d9b5648e</td>\n",
              "      <td>0f2161f8</td>\n",
              "      <td>a99f214a</td>\n",
              "      <td>b6d2d2fa</td>\n",
              "      <td>9b5ce758</td>\n",
              "      <td>1</td>\n",
              "      <td>0</td>\n",
              "      <td>21611</td>\n",
              "      <td>320</td>\n",
              "      <td>50</td>\n",
              "      <td>2480</td>\n",
              "      <td>3</td>\n",
              "      <td>299</td>\n",
              "      <td>100111</td>\n",
              "      <td>61</td>\n",
              "    </tr>\n",
              "    <tr>\n",
              "      <th>499996</th>\n",
              "      <td>1.311197e+19</td>\n",
              "      <td>0</td>\n",
              "      <td>14102103</td>\n",
              "      <td>1005</td>\n",
              "      <td>1</td>\n",
              "      <td>d9750ee7</td>\n",
              "      <td>98572c79</td>\n",
              "      <td>f028772b</td>\n",
              "      <td>ecad2386</td>\n",
              "      <td>7801e8d9</td>\n",
              "      <td>07d7df22</td>\n",
              "      <td>a99f214a</td>\n",
              "      <td>e54c1344</td>\n",
              "      <td>a0f5f879</td>\n",
              "      <td>1</td>\n",
              "      <td>0</td>\n",
              "      <td>17614</td>\n",
              "      <td>320</td>\n",
              "      <td>50</td>\n",
              "      <td>1993</td>\n",
              "      <td>2</td>\n",
              "      <td>1063</td>\n",
              "      <td>-1</td>\n",
              "      <td>33</td>\n",
              "    </tr>\n",
              "    <tr>\n",
              "      <th>499997</th>\n",
              "      <td>1.311202e+19</td>\n",
              "      <td>0</td>\n",
              "      <td>14102103</td>\n",
              "      <td>1005</td>\n",
              "      <td>0</td>\n",
              "      <td>85f751fd</td>\n",
              "      <td>c4e18dd6</td>\n",
              "      <td>50e219e0</td>\n",
              "      <td>e2fcccd2</td>\n",
              "      <td>5c5a694b</td>\n",
              "      <td>0f2161f8</td>\n",
              "      <td>42625159</td>\n",
              "      <td>396a38a8</td>\n",
              "      <td>6f21a189</td>\n",
              "      <td>1</td>\n",
              "      <td>0</td>\n",
              "      <td>20633</td>\n",
              "      <td>320</td>\n",
              "      <td>50</td>\n",
              "      <td>2374</td>\n",
              "      <td>3</td>\n",
              "      <td>39</td>\n",
              "      <td>-1</td>\n",
              "      <td>23</td>\n",
              "    </tr>\n",
              "    <tr>\n",
              "      <th>499998</th>\n",
              "      <td>1.311205e+19</td>\n",
              "      <td>0</td>\n",
              "      <td>14102103</td>\n",
              "      <td>1005</td>\n",
              "      <td>1</td>\n",
              "      <td>5b4d2eda</td>\n",
              "      <td>16a36ef3</td>\n",
              "      <td>f028772b</td>\n",
              "      <td>ecad2386</td>\n",
              "      <td>7801e8d9</td>\n",
              "      <td>07d7df22</td>\n",
              "      <td>a99f214a</td>\n",
              "      <td>fa7a267e</td>\n",
              "      <td>05e70df4</td>\n",
              "      <td>1</td>\n",
              "      <td>0</td>\n",
              "      <td>20355</td>\n",
              "      <td>216</td>\n",
              "      <td>36</td>\n",
              "      <td>2333</td>\n",
              "      <td>0</td>\n",
              "      <td>39</td>\n",
              "      <td>100077</td>\n",
              "      <td>157</td>\n",
              "    </tr>\n",
              "    <tr>\n",
              "      <th>499999</th>\n",
              "      <td>1.311207e+18</td>\n",
              "      <td>1</td>\n",
              "      <td>14102103</td>\n",
              "      <td>1005</td>\n",
              "      <td>0</td>\n",
              "      <td>2328ee8e</td>\n",
              "      <td>7804dea6</td>\n",
              "      <td>f028772b</td>\n",
              "      <td>ecad2386</td>\n",
              "      <td>7801e8d9</td>\n",
              "      <td>07d7df22</td>\n",
              "      <td>a99f214a</td>\n",
              "      <td>f1a323ab</td>\n",
              "      <td>1f0bc64f</td>\n",
              "      <td>1</td>\n",
              "      <td>0</td>\n",
              "      <td>6563</td>\n",
              "      <td>320</td>\n",
              "      <td>50</td>\n",
              "      <td>572</td>\n",
              "      <td>2</td>\n",
              "      <td>39</td>\n",
              "      <td>-1</td>\n",
              "      <td>32</td>\n",
              "    </tr>\n",
              "  </tbody>\n",
              "</table>\n",
              "<p>500000 rows × 24 columns</p>\n",
              "</div>"
            ],
            "text/plain": [
              "                  id  click      hour    C1  ...  C18   C19     C20  C21\n",
              "0       1.000009e+18      0  14102100  1005  ...    0    35      -1   79\n",
              "1       1.000017e+19      0  14102100  1005  ...    0    35  100084   79\n",
              "2       1.000037e+19      0  14102100  1005  ...    0    35  100084   79\n",
              "3       1.000064e+19      0  14102100  1005  ...    0    35  100084   79\n",
              "4       1.000068e+19      0  14102100  1005  ...    0    35      -1  157\n",
              "...              ...    ...       ...   ...  ...  ...   ...     ...  ...\n",
              "499995  1.311196e+19      0  14102103  1005  ...    3   299  100111   61\n",
              "499996  1.311197e+19      0  14102103  1005  ...    2  1063      -1   33\n",
              "499997  1.311202e+19      0  14102103  1005  ...    3    39      -1   23\n",
              "499998  1.311205e+19      0  14102103  1005  ...    0    39  100077  157\n",
              "499999  1.311207e+18      1  14102103  1005  ...    2    39      -1   32\n",
              "\n",
              "[500000 rows x 24 columns]"
            ]
          },
          "metadata": {},
          "execution_count": 2
        }
      ]
    },
    {
      "cell_type": "code",
      "metadata": {
        "colab": {
          "base_uri": "https://localhost:8080/"
        },
        "id": "jVee2rJ9Kvd6",
        "outputId": "5ab5913d-6fa3-45e6-dbb1-0fa257315b08"
      },
      "source": [
        "DATA.isnull().sum()"
      ],
      "execution_count": 3,
      "outputs": [
        {
          "output_type": "execute_result",
          "data": {
            "text/plain": [
              "id                  0\n",
              "click               0\n",
              "hour                0\n",
              "C1                  0\n",
              "banner_pos          0\n",
              "site_id             0\n",
              "site_domain         0\n",
              "site_category       0\n",
              "app_id              0\n",
              "app_domain          0\n",
              "app_category        0\n",
              "device_id           0\n",
              "device_ip           0\n",
              "device_model        0\n",
              "device_type         0\n",
              "device_conn_type    0\n",
              "C14                 0\n",
              "C15                 0\n",
              "C16                 0\n",
              "C17                 0\n",
              "C18                 0\n",
              "C19                 0\n",
              "C20                 0\n",
              "C21                 0\n",
              "dtype: int64"
            ]
          },
          "metadata": {},
          "execution_count": 3
        }
      ]
    },
    {
      "cell_type": "code",
      "metadata": {
        "id": "sKH27SqoKva-"
      },
      "source": [
        "DATA = DATA.drop_duplicates()"
      ],
      "execution_count": 4,
      "outputs": []
    },
    {
      "cell_type": "code",
      "metadata": {
        "colab": {
          "base_uri": "https://localhost:8080/",
          "height": 773
        },
        "id": "Hq3S5KV6KvYJ",
        "outputId": "d9ae511e-edb0-4223-c7a4-3308d8bdd569"
      },
      "source": [
        "DATA[\"time\"] = pd.to_datetime(DATA[\"hour\"], format=\"%y%m%d%H\")\n",
        "DATA[\"hour\"] = DATA[\"time\"].dt.hour\n",
        "DATA"
      ],
      "execution_count": 5,
      "outputs": [
        {
          "output_type": "execute_result",
          "data": {
            "text/html": [
              "<div>\n",
              "<style scoped>\n",
              "    .dataframe tbody tr th:only-of-type {\n",
              "        vertical-align: middle;\n",
              "    }\n",
              "\n",
              "    .dataframe tbody tr th {\n",
              "        vertical-align: top;\n",
              "    }\n",
              "\n",
              "    .dataframe thead th {\n",
              "        text-align: right;\n",
              "    }\n",
              "</style>\n",
              "<table border=\"1\" class=\"dataframe\">\n",
              "  <thead>\n",
              "    <tr style=\"text-align: right;\">\n",
              "      <th></th>\n",
              "      <th>id</th>\n",
              "      <th>click</th>\n",
              "      <th>hour</th>\n",
              "      <th>C1</th>\n",
              "      <th>banner_pos</th>\n",
              "      <th>site_id</th>\n",
              "      <th>site_domain</th>\n",
              "      <th>site_category</th>\n",
              "      <th>app_id</th>\n",
              "      <th>app_domain</th>\n",
              "      <th>app_category</th>\n",
              "      <th>device_id</th>\n",
              "      <th>device_ip</th>\n",
              "      <th>device_model</th>\n",
              "      <th>device_type</th>\n",
              "      <th>device_conn_type</th>\n",
              "      <th>C14</th>\n",
              "      <th>C15</th>\n",
              "      <th>C16</th>\n",
              "      <th>C17</th>\n",
              "      <th>C18</th>\n",
              "      <th>C19</th>\n",
              "      <th>C20</th>\n",
              "      <th>C21</th>\n",
              "      <th>time</th>\n",
              "    </tr>\n",
              "  </thead>\n",
              "  <tbody>\n",
              "    <tr>\n",
              "      <th>0</th>\n",
              "      <td>1.000009e+18</td>\n",
              "      <td>0</td>\n",
              "      <td>0</td>\n",
              "      <td>1005</td>\n",
              "      <td>0</td>\n",
              "      <td>1fbe01fe</td>\n",
              "      <td>f3845767</td>\n",
              "      <td>28905ebd</td>\n",
              "      <td>ecad2386</td>\n",
              "      <td>7801e8d9</td>\n",
              "      <td>07d7df22</td>\n",
              "      <td>a99f214a</td>\n",
              "      <td>ddd2926e</td>\n",
              "      <td>44956a24</td>\n",
              "      <td>1</td>\n",
              "      <td>2</td>\n",
              "      <td>15706</td>\n",
              "      <td>320</td>\n",
              "      <td>50</td>\n",
              "      <td>1722</td>\n",
              "      <td>0</td>\n",
              "      <td>35</td>\n",
              "      <td>-1</td>\n",
              "      <td>79</td>\n",
              "      <td>2014-10-21 00:00:00</td>\n",
              "    </tr>\n",
              "    <tr>\n",
              "      <th>1</th>\n",
              "      <td>1.000017e+19</td>\n",
              "      <td>0</td>\n",
              "      <td>0</td>\n",
              "      <td>1005</td>\n",
              "      <td>0</td>\n",
              "      <td>1fbe01fe</td>\n",
              "      <td>f3845767</td>\n",
              "      <td>28905ebd</td>\n",
              "      <td>ecad2386</td>\n",
              "      <td>7801e8d9</td>\n",
              "      <td>07d7df22</td>\n",
              "      <td>a99f214a</td>\n",
              "      <td>96809ac8</td>\n",
              "      <td>711ee120</td>\n",
              "      <td>1</td>\n",
              "      <td>0</td>\n",
              "      <td>15704</td>\n",
              "      <td>320</td>\n",
              "      <td>50</td>\n",
              "      <td>1722</td>\n",
              "      <td>0</td>\n",
              "      <td>35</td>\n",
              "      <td>100084</td>\n",
              "      <td>79</td>\n",
              "      <td>2014-10-21 00:00:00</td>\n",
              "    </tr>\n",
              "    <tr>\n",
              "      <th>2</th>\n",
              "      <td>1.000037e+19</td>\n",
              "      <td>0</td>\n",
              "      <td>0</td>\n",
              "      <td>1005</td>\n",
              "      <td>0</td>\n",
              "      <td>1fbe01fe</td>\n",
              "      <td>f3845767</td>\n",
              "      <td>28905ebd</td>\n",
              "      <td>ecad2386</td>\n",
              "      <td>7801e8d9</td>\n",
              "      <td>07d7df22</td>\n",
              "      <td>a99f214a</td>\n",
              "      <td>b3cf8def</td>\n",
              "      <td>8a4875bd</td>\n",
              "      <td>1</td>\n",
              "      <td>0</td>\n",
              "      <td>15704</td>\n",
              "      <td>320</td>\n",
              "      <td>50</td>\n",
              "      <td>1722</td>\n",
              "      <td>0</td>\n",
              "      <td>35</td>\n",
              "      <td>100084</td>\n",
              "      <td>79</td>\n",
              "      <td>2014-10-21 00:00:00</td>\n",
              "    </tr>\n",
              "    <tr>\n",
              "      <th>3</th>\n",
              "      <td>1.000064e+19</td>\n",
              "      <td>0</td>\n",
              "      <td>0</td>\n",
              "      <td>1005</td>\n",
              "      <td>0</td>\n",
              "      <td>1fbe01fe</td>\n",
              "      <td>f3845767</td>\n",
              "      <td>28905ebd</td>\n",
              "      <td>ecad2386</td>\n",
              "      <td>7801e8d9</td>\n",
              "      <td>07d7df22</td>\n",
              "      <td>a99f214a</td>\n",
              "      <td>e8275b8f</td>\n",
              "      <td>6332421a</td>\n",
              "      <td>1</td>\n",
              "      <td>0</td>\n",
              "      <td>15706</td>\n",
              "      <td>320</td>\n",
              "      <td>50</td>\n",
              "      <td>1722</td>\n",
              "      <td>0</td>\n",
              "      <td>35</td>\n",
              "      <td>100084</td>\n",
              "      <td>79</td>\n",
              "      <td>2014-10-21 00:00:00</td>\n",
              "    </tr>\n",
              "    <tr>\n",
              "      <th>4</th>\n",
              "      <td>1.000068e+19</td>\n",
              "      <td>0</td>\n",
              "      <td>0</td>\n",
              "      <td>1005</td>\n",
              "      <td>1</td>\n",
              "      <td>fe8cc448</td>\n",
              "      <td>9166c161</td>\n",
              "      <td>0569f928</td>\n",
              "      <td>ecad2386</td>\n",
              "      <td>7801e8d9</td>\n",
              "      <td>07d7df22</td>\n",
              "      <td>a99f214a</td>\n",
              "      <td>9644d0bf</td>\n",
              "      <td>779d90c2</td>\n",
              "      <td>1</td>\n",
              "      <td>0</td>\n",
              "      <td>18993</td>\n",
              "      <td>320</td>\n",
              "      <td>50</td>\n",
              "      <td>2161</td>\n",
              "      <td>0</td>\n",
              "      <td>35</td>\n",
              "      <td>-1</td>\n",
              "      <td>157</td>\n",
              "      <td>2014-10-21 00:00:00</td>\n",
              "    </tr>\n",
              "    <tr>\n",
              "      <th>...</th>\n",
              "      <td>...</td>\n",
              "      <td>...</td>\n",
              "      <td>...</td>\n",
              "      <td>...</td>\n",
              "      <td>...</td>\n",
              "      <td>...</td>\n",
              "      <td>...</td>\n",
              "      <td>...</td>\n",
              "      <td>...</td>\n",
              "      <td>...</td>\n",
              "      <td>...</td>\n",
              "      <td>...</td>\n",
              "      <td>...</td>\n",
              "      <td>...</td>\n",
              "      <td>...</td>\n",
              "      <td>...</td>\n",
              "      <td>...</td>\n",
              "      <td>...</td>\n",
              "      <td>...</td>\n",
              "      <td>...</td>\n",
              "      <td>...</td>\n",
              "      <td>...</td>\n",
              "      <td>...</td>\n",
              "      <td>...</td>\n",
              "      <td>...</td>\n",
              "    </tr>\n",
              "    <tr>\n",
              "      <th>499995</th>\n",
              "      <td>1.311196e+19</td>\n",
              "      <td>0</td>\n",
              "      <td>3</td>\n",
              "      <td>1005</td>\n",
              "      <td>0</td>\n",
              "      <td>85f751fd</td>\n",
              "      <td>c4e18dd6</td>\n",
              "      <td>50e219e0</td>\n",
              "      <td>53de0284</td>\n",
              "      <td>d9b5648e</td>\n",
              "      <td>0f2161f8</td>\n",
              "      <td>a99f214a</td>\n",
              "      <td>b6d2d2fa</td>\n",
              "      <td>9b5ce758</td>\n",
              "      <td>1</td>\n",
              "      <td>0</td>\n",
              "      <td>21611</td>\n",
              "      <td>320</td>\n",
              "      <td>50</td>\n",
              "      <td>2480</td>\n",
              "      <td>3</td>\n",
              "      <td>299</td>\n",
              "      <td>100111</td>\n",
              "      <td>61</td>\n",
              "      <td>2014-10-21 03:00:00</td>\n",
              "    </tr>\n",
              "    <tr>\n",
              "      <th>499996</th>\n",
              "      <td>1.311197e+19</td>\n",
              "      <td>0</td>\n",
              "      <td>3</td>\n",
              "      <td>1005</td>\n",
              "      <td>1</td>\n",
              "      <td>d9750ee7</td>\n",
              "      <td>98572c79</td>\n",
              "      <td>f028772b</td>\n",
              "      <td>ecad2386</td>\n",
              "      <td>7801e8d9</td>\n",
              "      <td>07d7df22</td>\n",
              "      <td>a99f214a</td>\n",
              "      <td>e54c1344</td>\n",
              "      <td>a0f5f879</td>\n",
              "      <td>1</td>\n",
              "      <td>0</td>\n",
              "      <td>17614</td>\n",
              "      <td>320</td>\n",
              "      <td>50</td>\n",
              "      <td>1993</td>\n",
              "      <td>2</td>\n",
              "      <td>1063</td>\n",
              "      <td>-1</td>\n",
              "      <td>33</td>\n",
              "      <td>2014-10-21 03:00:00</td>\n",
              "    </tr>\n",
              "    <tr>\n",
              "      <th>499997</th>\n",
              "      <td>1.311202e+19</td>\n",
              "      <td>0</td>\n",
              "      <td>3</td>\n",
              "      <td>1005</td>\n",
              "      <td>0</td>\n",
              "      <td>85f751fd</td>\n",
              "      <td>c4e18dd6</td>\n",
              "      <td>50e219e0</td>\n",
              "      <td>e2fcccd2</td>\n",
              "      <td>5c5a694b</td>\n",
              "      <td>0f2161f8</td>\n",
              "      <td>42625159</td>\n",
              "      <td>396a38a8</td>\n",
              "      <td>6f21a189</td>\n",
              "      <td>1</td>\n",
              "      <td>0</td>\n",
              "      <td>20633</td>\n",
              "      <td>320</td>\n",
              "      <td>50</td>\n",
              "      <td>2374</td>\n",
              "      <td>3</td>\n",
              "      <td>39</td>\n",
              "      <td>-1</td>\n",
              "      <td>23</td>\n",
              "      <td>2014-10-21 03:00:00</td>\n",
              "    </tr>\n",
              "    <tr>\n",
              "      <th>499998</th>\n",
              "      <td>1.311205e+19</td>\n",
              "      <td>0</td>\n",
              "      <td>3</td>\n",
              "      <td>1005</td>\n",
              "      <td>1</td>\n",
              "      <td>5b4d2eda</td>\n",
              "      <td>16a36ef3</td>\n",
              "      <td>f028772b</td>\n",
              "      <td>ecad2386</td>\n",
              "      <td>7801e8d9</td>\n",
              "      <td>07d7df22</td>\n",
              "      <td>a99f214a</td>\n",
              "      <td>fa7a267e</td>\n",
              "      <td>05e70df4</td>\n",
              "      <td>1</td>\n",
              "      <td>0</td>\n",
              "      <td>20355</td>\n",
              "      <td>216</td>\n",
              "      <td>36</td>\n",
              "      <td>2333</td>\n",
              "      <td>0</td>\n",
              "      <td>39</td>\n",
              "      <td>100077</td>\n",
              "      <td>157</td>\n",
              "      <td>2014-10-21 03:00:00</td>\n",
              "    </tr>\n",
              "    <tr>\n",
              "      <th>499999</th>\n",
              "      <td>1.311207e+18</td>\n",
              "      <td>1</td>\n",
              "      <td>3</td>\n",
              "      <td>1005</td>\n",
              "      <td>0</td>\n",
              "      <td>2328ee8e</td>\n",
              "      <td>7804dea6</td>\n",
              "      <td>f028772b</td>\n",
              "      <td>ecad2386</td>\n",
              "      <td>7801e8d9</td>\n",
              "      <td>07d7df22</td>\n",
              "      <td>a99f214a</td>\n",
              "      <td>f1a323ab</td>\n",
              "      <td>1f0bc64f</td>\n",
              "      <td>1</td>\n",
              "      <td>0</td>\n",
              "      <td>6563</td>\n",
              "      <td>320</td>\n",
              "      <td>50</td>\n",
              "      <td>572</td>\n",
              "      <td>2</td>\n",
              "      <td>39</td>\n",
              "      <td>-1</td>\n",
              "      <td>32</td>\n",
              "      <td>2014-10-21 03:00:00</td>\n",
              "    </tr>\n",
              "  </tbody>\n",
              "</table>\n",
              "<p>500000 rows × 25 columns</p>\n",
              "</div>"
            ],
            "text/plain": [
              "                  id  click  hour    C1  ...   C19     C20  C21                time\n",
              "0       1.000009e+18      0     0  1005  ...    35      -1   79 2014-10-21 00:00:00\n",
              "1       1.000017e+19      0     0  1005  ...    35  100084   79 2014-10-21 00:00:00\n",
              "2       1.000037e+19      0     0  1005  ...    35  100084   79 2014-10-21 00:00:00\n",
              "3       1.000064e+19      0     0  1005  ...    35  100084   79 2014-10-21 00:00:00\n",
              "4       1.000068e+19      0     0  1005  ...    35      -1  157 2014-10-21 00:00:00\n",
              "...              ...    ...   ...   ...  ...   ...     ...  ...                 ...\n",
              "499995  1.311196e+19      0     3  1005  ...   299  100111   61 2014-10-21 03:00:00\n",
              "499996  1.311197e+19      0     3  1005  ...  1063      -1   33 2014-10-21 03:00:00\n",
              "499997  1.311202e+19      0     3  1005  ...    39      -1   23 2014-10-21 03:00:00\n",
              "499998  1.311205e+19      0     3  1005  ...    39  100077  157 2014-10-21 03:00:00\n",
              "499999  1.311207e+18      1     3  1005  ...    39      -1   32 2014-10-21 03:00:00\n",
              "\n",
              "[500000 rows x 25 columns]"
            ]
          },
          "metadata": {},
          "execution_count": 5
        }
      ]
    },
    {
      "cell_type": "code",
      "metadata": {
        "colab": {
          "base_uri": "https://localhost:8080/"
        },
        "id": "TH47rizzKvTA",
        "outputId": "e5e7db6f-3af9-4954-f1b7-306d8fc0f3f8"
      },
      "source": [
        "DATA.info()"
      ],
      "execution_count": 6,
      "outputs": [
        {
          "output_type": "stream",
          "text": [
            "<class 'pandas.core.frame.DataFrame'>\n",
            "Int64Index: 500000 entries, 0 to 499999\n",
            "Data columns (total 25 columns):\n",
            " #   Column            Non-Null Count   Dtype         \n",
            "---  ------            --------------   -----         \n",
            " 0   id                500000 non-null  float64       \n",
            " 1   click             500000 non-null  int64         \n",
            " 2   hour              500000 non-null  int64         \n",
            " 3   C1                500000 non-null  int64         \n",
            " 4   banner_pos        500000 non-null  int64         \n",
            " 5   site_id           500000 non-null  object        \n",
            " 6   site_domain       500000 non-null  object        \n",
            " 7   site_category     500000 non-null  object        \n",
            " 8   app_id            500000 non-null  object        \n",
            " 9   app_domain        500000 non-null  object        \n",
            " 10  app_category      500000 non-null  object        \n",
            " 11  device_id         500000 non-null  object        \n",
            " 12  device_ip         500000 non-null  object        \n",
            " 13  device_model      500000 non-null  object        \n",
            " 14  device_type       500000 non-null  int64         \n",
            " 15  device_conn_type  500000 non-null  int64         \n",
            " 16  C14               500000 non-null  int64         \n",
            " 17  C15               500000 non-null  int64         \n",
            " 18  C16               500000 non-null  int64         \n",
            " 19  C17               500000 non-null  int64         \n",
            " 20  C18               500000 non-null  int64         \n",
            " 21  C19               500000 non-null  int64         \n",
            " 22  C20               500000 non-null  int64         \n",
            " 23  C21               500000 non-null  int64         \n",
            " 24  time              500000 non-null  datetime64[ns]\n",
            "dtypes: datetime64[ns](1), float64(1), int64(14), object(9)\n",
            "memory usage: 99.2+ MB\n"
          ],
          "name": "stdout"
        }
      ]
    },
    {
      "cell_type": "code",
      "metadata": {
        "colab": {
          "base_uri": "https://localhost:8080/",
          "height": 350
        },
        "id": "8K1r5yikKvQh",
        "outputId": "d14adc5c-be6b-4a04-da94-3eb2696318ba"
      },
      "source": [
        "sns.countplot(DATA['click'], data=DATA)"
      ],
      "execution_count": 7,
      "outputs": [
        {
          "output_type": "stream",
          "text": [
            "/usr/local/lib/python3.7/dist-packages/seaborn/_decorators.py:43: FutureWarning: Pass the following variable as a keyword arg: x. From version 0.12, the only valid positional argument will be `data`, and passing other arguments without an explicit keyword will result in an error or misinterpretation.\n",
            "  FutureWarning\n"
          ],
          "name": "stderr"
        },
        {
          "output_type": "execute_result",
          "data": {
            "text/plain": [
              "<matplotlib.axes._subplots.AxesSubplot at 0x7fdd086291d0>"
            ]
          },
          "metadata": {},
          "execution_count": 7
        },
        {
          "output_type": "display_data",
          "data": {
            "image/png": "[encoded data removed]",
            "text/plain": [
              "<Figure size 432x288 with 1 Axes>"
            ]
          },
          "metadata": {
            "needs_background": "light"
          }
        }
      ]
    },
    {
      "cell_type": "code",
      "metadata": {
        "colab": {
          "base_uri": "https://localhost:8080/",
          "height": 296
        },
        "id": "KLdQazcTTXAk",
        "outputId": "a65bc5b5-685d-4198-9bc9-c215e6f15a1a"
      },
      "source": [
        "sns.histplot(data=DATA['click'], x=DATA[\"hour\"])"
      ],
      "execution_count": 8,
      "outputs": [
        {
          "output_type": "execute_result",
          "data": {
            "text/plain": [
              "<matplotlib.axes._subplots.AxesSubplot at 0x7fdcf0dbbb90>"
            ]
          },
          "metadata": {},
          "execution_count": 8
        },
        {
          "output_type": "display_data",
          "data": {
            "image/png": "[encoded data removed]",
            "text/plain": [
              "<Figure size 432x288 with 1 Axes>"
            ]
          },
          "metadata": {
            "needs_background": "light"
          }
        }
      ]
    },
    {
      "cell_type": "code",
      "metadata": {
        "colab": {
          "base_uri": "https://localhost:8080/",
          "height": 694
        },
        "id": "0MZ0yL7xKvN8",
        "outputId": "038286dc-9c59-43f1-f822-2e85d0bbff14"
      },
      "source": [
        "plt.figure(figsize=(10, 10))\n",
        "sns.distplot(DATA['hour'][DATA['click']==1], color='yellow')\n",
        "sns.distplot(DATA['hour'][DATA['click']==0], color='blue')\n",
        "plt.legend([\"1\",\"0\"]) \n",
        "plt.show()"
      ],
      "execution_count": 9,
      "outputs": [
        {
          "output_type": "stream",
          "text": [
            "/usr/local/lib/python3.7/dist-packages/seaborn/distributions.py:2557: FutureWarning: `distplot` is a deprecated function and will be removed in a future version. Please adapt your code to use either `displot` (a figure-level function with similar flexibility) or `histplot` (an axes-level function for histograms).\n",
            "  warnings.warn(msg, FutureWarning)\n",
            "/usr/local/lib/python3.7/dist-packages/seaborn/distributions.py:2557: FutureWarning: `distplot` is a deprecated function and will be removed in a future version. Please adapt your code to use either `displot` (a figure-level function with similar flexibility) or `histplot` (an axes-level function for histograms).\n",
            "  warnings.warn(msg, FutureWarning)\n"
          ],
          "name": "stderr"
        },
        {
          "output_type": "display_data",
          "data": {
            "image/png": "[encoded data removed]",
            "text/plain": [
              "<Figure size 720x720 with 1 Axes>"
            ]
          },
          "metadata": {
            "needs_background": "light"
          }
        }
      ]
    },
    {
      "cell_type": "code",
      "metadata": {
        "colab": {
          "base_uri": "https://localhost:8080/",
          "height": 660
        },
        "id": "GtTw1rPjKvLC",
        "outputId": "ebf7314f-8f89-4e5d-92de-2ee498c45c25"
      },
      "source": [
        "plt.figure(figsize=(10, 10))\n",
        "sns.countplot(DATA['hour'][DATA['click']==1])\n",
        "plt.show()"
      ],
      "execution_count": 10,
      "outputs": [
        {
          "output_type": "stream",
          "text": [
            "/usr/local/lib/python3.7/dist-packages/seaborn/_decorators.py:43: FutureWarning: Pass the following variable as a keyword arg: x. From version 0.12, the only valid positional argument will be `data`, and passing other arguments without an explicit keyword will result in an error or misinterpretation.\n",
            "  FutureWarning\n"
          ],
          "name": "stderr"
        },
        {
          "output_type": "display_data",
          "data": {
            "image/png": "[encoded data removed]",
            "text/plain": [
              "<Figure size 720x720 with 1 Axes>"
            ]
          },
          "metadata": {
            "needs_background": "light"
          }
        }
      ]
    },
    {
      "cell_type": "code",
      "metadata": {
        "colab": {
          "base_uri": "https://localhost:8080/",
          "height": 891
        },
        "id": "ecnyztABTNnm",
        "outputId": "44e4fb7b-f007-4f3b-e520-abfee60759bc"
      },
      "source": [
        "correlation = DATA.drop([\"id\"],axis=1).corr()\n",
        "fig = plt.figure(figsize = (15,15))\n",
        "sns.heatmap(correlation, annot = True, square = True)"
      ],
      "execution_count": 11,
      "outputs": [
        {
          "output_type": "execute_result",
          "data": {
            "text/plain": [
              "<matplotlib.axes._subplots.AxesSubplot at 0x7fdce59b6450>"
            ]
          },
          "metadata": {},
          "execution_count": 11
        },
        {
          "output_type": "display_data",
          "data": {
            "image/png": "[encoded data removed]",
            "text/plain": [
              "<Figure size 1080x1080 with 2 Axes>"
            ]
          },
          "metadata": {
            "needs_background": "light"
          }
        }
      ]
    },
    {
      "cell_type": "markdown",
      "metadata": {
        "id": "e_Ii1rdkWJIR"
      },
      "source": [
        "1.   device type and C1 are strongly related\n",
        "2.   C14 and C17 are strongly related\n",
        "3.   C18 and C21 show some connection"
      ]
    },
    {
      "cell_type": "code",
      "metadata": {
        "colab": {
          "base_uri": "https://localhost:8080/",
          "height": 609
        },
        "id": "cJxl9r0dWImU",
        "outputId": "75014b79-43e4-442c-aaa7-ad84b6cca604"
      },
      "source": [
        "plt.figure(figsize=(10,10))\n",
        "x = DATA['device_type']\n",
        "y = DATA['C1']\n",
        "plt.scatter(x, y)"
      ],
      "execution_count": 12,
      "outputs": [
        {
          "output_type": "execute_result",
          "data": {
            "text/plain": [
              "<matplotlib.collections.PathCollection at 0x7fdce3de1650>"
            ]
          },
          "metadata": {},
          "execution_count": 12
        },
        {
          "output_type": "display_data",
          "data": {
            "image/png": "[encoded data removed]",
            "text/plain": [
              "<Figure size 720x720 with 1 Axes>"
            ]
          },
          "metadata": {
            "needs_background": "light"
          }
        }
      ]
    },
    {
      "cell_type": "code",
      "metadata": {
        "colab": {
          "base_uri": "https://localhost:8080/",
          "height": 609
        },
        "id": "3_oD-WZMTNlA",
        "outputId": "c6d5fff4-4b86-47a7-d211-69781bd68475"
      },
      "source": [
        "plt.figure(figsize=(10,10))\n",
        "x = DATA['C17']\n",
        "y = DATA['C14']\n",
        "plt.scatter(x, y)"
      ],
      "execution_count": 13,
      "outputs": [
        {
          "output_type": "execute_result",
          "data": {
            "text/plain": [
              "<matplotlib.collections.PathCollection at 0x7fdce56de450>"
            ]
          },
          "metadata": {},
          "execution_count": 13
        },
        {
          "output_type": "display_data",
          "data": {
            "image/png": "[encoded data removed]",
            "text/plain": [
              "<Figure size 720x720 with 1 Axes>"
            ]
          },
          "metadata": {
            "needs_background": "light"
          }
        }
      ]
    },
    {
      "cell_type": "code",
      "metadata": {
        "colab": {
          "base_uri": "https://localhost:8080/",
          "height": 609
        },
        "id": "LbgCGZ9iTNil",
        "outputId": "223818e3-ae4f-4590-924b-6d66513a98d9"
      },
      "source": [
        "plt.figure(figsize=(10,10))\n",
        "x = DATA['C18']\n",
        "y = DATA['C21']\n",
        "plt.scatter(x, y)"
      ],
      "execution_count": 14,
      "outputs": [
        {
          "output_type": "execute_result",
          "data": {
            "text/plain": [
              "<matplotlib.collections.PathCollection at 0x7fdce3d17050>"
            ]
          },
          "metadata": {},
          "execution_count": 14
        },
        {
          "output_type": "display_data",
          "data": {
            "image/png": "[encoded data removed]",
            "text/plain": [
              "<Figure size 720x720 with 1 Axes>"
            ]
          },
          "metadata": {
            "needs_background": "light"
          }
        }
      ]
    },
    {
      "cell_type": "code",
      "metadata": {
        "colab": {
          "base_uri": "https://localhost:8080/"
        },
        "id": "ONM-Dd8HW_NQ",
        "outputId": "5a275d29-704a-4369-c8dc-c0f76a837e4c"
      },
      "source": [
        "DATA.info()"
      ],
      "execution_count": 15,
      "outputs": [
        {
          "output_type": "stream",
          "text": [
            "<class 'pandas.core.frame.DataFrame'>\n",
            "Int64Index: 500000 entries, 0 to 499999\n",
            "Data columns (total 25 columns):\n",
            " #   Column            Non-Null Count   Dtype         \n",
            "---  ------            --------------   -----         \n",
            " 0   id                500000 non-null  float64       \n",
            " 1   click             500000 non-null  int64         \n",
            " 2   hour              500000 non-null  int64         \n",
            " 3   C1                500000 non-null  int64         \n",
            " 4   banner_pos        500000 non-null  int64         \n",
            " 5   site_id           500000 non-null  object        \n",
            " 6   site_domain       500000 non-null  object        \n",
            " 7   site_category     500000 non-null  object        \n",
            " 8   app_id            500000 non-null  object        \n",
            " 9   app_domain        500000 non-null  object        \n",
            " 10  app_category      500000 non-null  object        \n",
            " 11  device_id         500000 non-null  object        \n",
            " 12  device_ip         500000 non-null  object        \n",
            " 13  device_model      500000 non-null  object        \n",
            " 14  device_type       500000 non-null  int64         \n",
            " 15  device_conn_type  500000 non-null  int64         \n",
            " 16  C14               500000 non-null  int64         \n",
            " 17  C15               500000 non-null  int64         \n",
            " 18  C16               500000 non-null  int64         \n",
            " 19  C17               500000 non-null  int64         \n",
            " 20  C18               500000 non-null  int64         \n",
            " 21  C19               500000 non-null  int64         \n",
            " 22  C20               500000 non-null  int64         \n",
            " 23  C21               500000 non-null  int64         \n",
            " 24  time              500000 non-null  datetime64[ns]\n",
            "dtypes: datetime64[ns](1), float64(1), int64(14), object(9)\n",
            "memory usage: 119.2+ MB\n"
          ],
          "name": "stdout"
        }
      ]
    },
    {
      "cell_type": "code",
      "metadata": {
        "colab": {
          "base_uri": "https://localhost:8080/"
        },
        "id": "DRir_G38Xt9V",
        "outputId": "1bbf1031-eb50-4436-fb92-4e9b956723fb"
      },
      "source": [
        "DATA.columns"
      ],
      "execution_count": 16,
      "outputs": [
        {
          "output_type": "execute_result",
          "data": {
            "text/plain": [
              "Index(['id', 'click', 'hour', 'C1', 'banner_pos', 'site_id', 'site_domain',\n",
              "       'site_category', 'app_id', 'app_domain', 'app_category', 'device_id',\n",
              "       'device_ip', 'device_model', 'device_type', 'device_conn_type', 'C14',\n",
              "       'C15', 'C16', 'C17', 'C18', 'C19', 'C20', 'C21', 'time'],\n",
              "      dtype='object')"
            ]
          },
          "metadata": {},
          "execution_count": 16
        }
      ]
    },
    {
      "cell_type": "code",
      "metadata": {
        "colab": {
          "base_uri": "https://localhost:8080/",
          "height": 773
        },
        "id": "A-lwfmxUcAqI",
        "outputId": "4a531008-e0ce-40ff-9635-aca8670085b0"
      },
      "source": [
        "DATA"
      ],
      "execution_count": 17,
      "outputs": [
        {
          "output_type": "execute_result",
          "data": {
            "text/html": [
              "<div>\n",
              "<style scoped>\n",
              "    .dataframe tbody tr th:only-of-type {\n",
              "        vertical-align: middle;\n",
              "    }\n",
              "\n",
              "    .dataframe tbody tr th {\n",
              "        vertical-align: top;\n",
              "    }\n",
              "\n",
              "    .dataframe thead th {\n",
              "        text-align: right;\n",
              "    }\n",
              "</style>\n",
              "<table border=\"1\" class=\"dataframe\">\n",
              "  <thead>\n",
              "    <tr style=\"text-align: right;\">\n",
              "      <th></th>\n",
              "      <th>id</th>\n",
              "      <th>click</th>\n",
              "      <th>hour</th>\n",
              "      <th>C1</th>\n",
              "      <th>banner_pos</th>\n",
              "      <th>site_id</th>\n",
              "      <th>site_domain</th>\n",
              "      <th>site_category</th>\n",
              "      <th>app_id</th>\n",
              "      <th>app_domain</th>\n",
              "      <th>app_category</th>\n",
              "      <th>device_id</th>\n",
              "      <th>device_ip</th>\n",
              "      <th>device_model</th>\n",
              "      <th>device_type</th>\n",
              "      <th>device_conn_type</th>\n",
              "      <th>C14</th>\n",
              "      <th>C15</th>\n",
              "      <th>C16</th>\n",
              "      <th>C17</th>\n",
              "      <th>C18</th>\n",
              "      <th>C19</th>\n",
              "      <th>C20</th>\n",
              "      <th>C21</th>\n",
              "      <th>time</th>\n",
              "    </tr>\n",
              "  </thead>\n",
              "  <tbody>\n",
              "    <tr>\n",
              "      <th>0</th>\n",
              "      <td>1.000009e+18</td>\n",
              "      <td>0</td>\n",
              "      <td>0</td>\n",
              "      <td>1005</td>\n",
              "      <td>0</td>\n",
              "      <td>1fbe01fe</td>\n",
              "      <td>f3845767</td>\n",
              "      <td>28905ebd</td>\n",
              "      <td>ecad2386</td>\n",
              "      <td>7801e8d9</td>\n",
              "      <td>07d7df22</td>\n",
              "      <td>a99f214a</td>\n",
              "      <td>ddd2926e</td>\n",
              "      <td>44956a24</td>\n",
              "      <td>1</td>\n",
              "      <td>2</td>\n",
              "      <td>15706</td>\n",
              "      <td>320</td>\n",
              "      <td>50</td>\n",
              "      <td>1722</td>\n",
              "      <td>0</td>\n",
              "      <td>35</td>\n",
              "      <td>-1</td>\n",
              "      <td>79</td>\n",
              "      <td>2014-10-21 00:00:00</td>\n",
              "    </tr>\n",
              "    <tr>\n",
              "      <th>1</th>\n",
              "      <td>1.000017e+19</td>\n",
              "      <td>0</td>\n",
              "      <td>0</td>\n",
              "      <td>1005</td>\n",
              "      <td>0</td>\n",
              "      <td>1fbe01fe</td>\n",
              "      <td>f3845767</td>\n",
              "      <td>28905ebd</td>\n",
              "      <td>ecad2386</td>\n",
              "      <td>7801e8d9</td>\n",
              "      <td>07d7df22</td>\n",
              "      <td>a99f214a</td>\n",
              "      <td>96809ac8</td>\n",
              "      <td>711ee120</td>\n",
              "      <td>1</td>\n",
              "      <td>0</td>\n",
              "      <td>15704</td>\n",
              "      <td>320</td>\n",
              "      <td>50</td>\n",
              "      <td>1722</td>\n",
              "      <td>0</td>\n",
              "      <td>35</td>\n",
              "      <td>100084</td>\n",
              "      <td>79</td>\n",
              "      <td>2014-10-21 00:00:00</td>\n",
              "    </tr>\n",
              "    <tr>\n",
              "      <th>2</th>\n",
              "      <td>1.000037e+19</td>\n",
              "      <td>0</td>\n",
              "      <td>0</td>\n",
              "      <td>1005</td>\n",
              "      <td>0</td>\n",
              "      <td>1fbe01fe</td>\n",
              "      <td>f3845767</td>\n",
              "      <td>28905ebd</td>\n",
              "      <td>ecad2386</td>\n",
              "      <td>7801e8d9</td>\n",
              "      <td>07d7df22</td>\n",
              "      <td>a99f214a</td>\n",
              "      <td>b3cf8def</td>\n",
              "      <td>8a4875bd</td>\n",
              "      <td>1</td>\n",
              "      <td>0</td>\n",
              "      <td>15704</td>\n",
              "      <td>320</td>\n",
              "      <td>50</td>\n",
              "      <td>1722</td>\n",
              "      <td>0</td>\n",
              "      <td>35</td>\n",
              "      <td>100084</td>\n",
              "      <td>79</td>\n",
              "      <td>2014-10-21 00:00:00</td>\n",
              "    </tr>\n",
              "    <tr>\n",
              "      <th>3</th>\n",
              "      <td>1.000064e+19</td>\n",
              "      <td>0</td>\n",
              "      <td>0</td>\n",
              "      <td>1005</td>\n",
              "      <td>0</td>\n",
              "      <td>1fbe01fe</td>\n",
              "      <td>f3845767</td>\n",
              "      <td>28905ebd</td>\n",
              "      <td>ecad2386</td>\n",
              "      <td>7801e8d9</td>\n",
              "      <td>07d7df22</td>\n",
              "      <td>a99f214a</td>\n",
              "      <td>e8275b8f</td>\n",
              "      <td>6332421a</td>\n",
              "      <td>1</td>\n",
              "      <td>0</td>\n",
              "      <td>15706</td>\n",
              "      <td>320</td>\n",
              "      <td>50</td>\n",
              "      <td>1722</td>\n",
              "      <td>0</td>\n",
              "      <td>35</td>\n",
              "      <td>100084</td>\n",
              "      <td>79</td>\n",
              "      <td>2014-10-21 00:00:00</td>\n",
              "    </tr>\n",
              "    <tr>\n",
              "      <th>4</th>\n",
              "      <td>1.000068e+19</td>\n",
              "      <td>0</td>\n",
              "      <td>0</td>\n",
              "      <td>1005</td>\n",
              "      <td>1</td>\n",
              "      <td>fe8cc448</td>\n",
              "      <td>9166c161</td>\n",
              "      <td>0569f928</td>\n",
              "      <td>ecad2386</td>\n",
              "      <td>7801e8d9</td>\n",
              "      <td>07d7df22</td>\n",
              "      <td>a99f214a</td>\n",
              "      <td>9644d0bf</td>\n",
              "      <td>779d90c2</td>\n",
              "      <td>1</td>\n",
              "      <td>0</td>\n",
              "      <td>18993</td>\n",
              "      <td>320</td>\n",
              "      <td>50</td>\n",
              "      <td>2161</td>\n",
              "      <td>0</td>\n",
              "      <td>35</td>\n",
              "      <td>-1</td>\n",
              "      <td>157</td>\n",
              "      <td>2014-10-21 00:00:00</td>\n",
              "    </tr>\n",
              "    <tr>\n",
              "      <th>...</th>\n",
              "      <td>...</td>\n",
              "      <td>...</td>\n",
              "      <td>...</td>\n",
              "      <td>...</td>\n",
              "      <td>...</td>\n",
              "      <td>...</td>\n",
              "      <td>...</td>\n",
              "      <td>...</td>\n",
              "      <td>...</td>\n",
              "      <td>...</td>\n",
              "      <td>...</td>\n",
              "      <td>...</td>\n",
              "      <td>...</td>\n",
              "      <td>...</td>\n",
              "      <td>...</td>\n",
              "      <td>...</td>\n",
              "      <td>...</td>\n",
              "      <td>...</td>\n",
              "      <td>...</td>\n",
              "      <td>...</td>\n",
              "      <td>...</td>\n",
              "      <td>...</td>\n",
              "      <td>...</td>\n",
              "      <td>...</td>\n",
              "      <td>...</td>\n",
              "    </tr>\n",
              "    <tr>\n",
              "      <th>499995</th>\n",
              "      <td>1.311196e+19</td>\n",
              "      <td>0</td>\n",
              "      <td>3</td>\n",
              "      <td>1005</td>\n",
              "      <td>0</td>\n",
              "      <td>85f751fd</td>\n",
              "      <td>c4e18dd6</td>\n",
              "      <td>50e219e0</td>\n",
              "      <td>53de0284</td>\n",
              "      <td>d9b5648e</td>\n",
              "      <td>0f2161f8</td>\n",
              "      <td>a99f214a</td>\n",
              "      <td>b6d2d2fa</td>\n",
              "      <td>9b5ce758</td>\n",
              "      <td>1</td>\n",
              "      <td>0</td>\n",
              "      <td>21611</td>\n",
              "      <td>320</td>\n",
              "      <td>50</td>\n",
              "      <td>2480</td>\n",
              "      <td>3</td>\n",
              "      <td>299</td>\n",
              "      <td>100111</td>\n",
              "      <td>61</td>\n",
              "      <td>2014-10-21 03:00:00</td>\n",
              "    </tr>\n",
              "    <tr>\n",
              "      <th>499996</th>\n",
              "      <td>1.311197e+19</td>\n",
              "      <td>0</td>\n",
              "      <td>3</td>\n",
              "      <td>1005</td>\n",
              "      <td>1</td>\n",
              "      <td>d9750ee7</td>\n",
              "      <td>98572c79</td>\n",
              "      <td>f028772b</td>\n",
              "      <td>ecad2386</td>\n",
              "      <td>7801e8d9</td>\n",
              "      <td>07d7df22</td>\n",
              "      <td>a99f214a</td>\n",
              "      <td>e54c1344</td>\n",
              "      <td>a0f5f879</td>\n",
              "      <td>1</td>\n",
              "      <td>0</td>\n",
              "      <td>17614</td>\n",
              "      <td>320</td>\n",
              "      <td>50</td>\n",
              "      <td>1993</td>\n",
              "      <td>2</td>\n",
              "      <td>1063</td>\n",
              "      <td>-1</td>\n",
              "      <td>33</td>\n",
              "      <td>2014-10-21 03:00:00</td>\n",
              "    </tr>\n",
              "    <tr>\n",
              "      <th>499997</th>\n",
              "      <td>1.311202e+19</td>\n",
              "      <td>0</td>\n",
              "      <td>3</td>\n",
              "      <td>1005</td>\n",
              "      <td>0</td>\n",
              "      <td>85f751fd</td>\n",
              "      <td>c4e18dd6</td>\n",
              "      <td>50e219e0</td>\n",
              "      <td>e2fcccd2</td>\n",
              "      <td>5c5a694b</td>\n",
              "      <td>0f2161f8</td>\n",
              "      <td>42625159</td>\n",
              "      <td>396a38a8</td>\n",
              "      <td>6f21a189</td>\n",
              "      <td>1</td>\n",
              "      <td>0</td>\n",
              "      <td>20633</td>\n",
              "      <td>320</td>\n",
              "      <td>50</td>\n",
              "      <td>2374</td>\n",
              "      <td>3</td>\n",
              "      <td>39</td>\n",
              "      <td>-1</td>\n",
              "      <td>23</td>\n",
              "      <td>2014-10-21 03:00:00</td>\n",
              "    </tr>\n",
              "    <tr>\n",
              "      <th>499998</th>\n",
              "      <td>1.311205e+19</td>\n",
              "      <td>0</td>\n",
              "      <td>3</td>\n",
              "      <td>1005</td>\n",
              "      <td>1</td>\n",
              "      <td>5b4d2eda</td>\n",
              "      <td>16a36ef3</td>\n",
              "      <td>f028772b</td>\n",
              "      <td>ecad2386</td>\n",
              "      <td>7801e8d9</td>\n",
              "      <td>07d7df22</td>\n",
              "      <td>a99f214a</td>\n",
              "      <td>fa7a267e</td>\n",
              "      <td>05e70df4</td>\n",
              "      <td>1</td>\n",
              "      <td>0</td>\n",
              "      <td>20355</td>\n",
              "      <td>216</td>\n",
              "      <td>36</td>\n",
              "      <td>2333</td>\n",
              "      <td>0</td>\n",
              "      <td>39</td>\n",
              "      <td>100077</td>\n",
              "      <td>157</td>\n",
              "      <td>2014-10-21 03:00:00</td>\n",
              "    </tr>\n",
              "    <tr>\n",
              "      <th>499999</th>\n",
              "      <td>1.311207e+18</td>\n",
              "      <td>1</td>\n",
              "      <td>3</td>\n",
              "      <td>1005</td>\n",
              "      <td>0</td>\n",
              "      <td>2328ee8e</td>\n",
              "      <td>7804dea6</td>\n",
              "      <td>f028772b</td>\n",
              "      <td>ecad2386</td>\n",
              "      <td>7801e8d9</td>\n",
              "      <td>07d7df22</td>\n",
              "      <td>a99f214a</td>\n",
              "      <td>f1a323ab</td>\n",
              "      <td>1f0bc64f</td>\n",
              "      <td>1</td>\n",
              "      <td>0</td>\n",
              "      <td>6563</td>\n",
              "      <td>320</td>\n",
              "      <td>50</td>\n",
              "      <td>572</td>\n",
              "      <td>2</td>\n",
              "      <td>39</td>\n",
              "      <td>-1</td>\n",
              "      <td>32</td>\n",
              "      <td>2014-10-21 03:00:00</td>\n",
              "    </tr>\n",
              "  </tbody>\n",
              "</table>\n",
              "<p>500000 rows × 25 columns</p>\n",
              "</div>"
            ],
            "text/plain": [
              "                  id  click  hour    C1  ...   C19     C20  C21                time\n",
              "0       1.000009e+18      0     0  1005  ...    35      -1   79 2014-10-21 00:00:00\n",
              "1       1.000017e+19      0     0  1005  ...    35  100084   79 2014-10-21 00:00:00\n",
              "2       1.000037e+19      0     0  1005  ...    35  100084   79 2014-10-21 00:00:00\n",
              "3       1.000064e+19      0     0  1005  ...    35  100084   79 2014-10-21 00:00:00\n",
              "4       1.000068e+19      0     0  1005  ...    35      -1  157 2014-10-21 00:00:00\n",
              "...              ...    ...   ...   ...  ...   ...     ...  ...                 ...\n",
              "499995  1.311196e+19      0     3  1005  ...   299  100111   61 2014-10-21 03:00:00\n",
              "499996  1.311197e+19      0     3  1005  ...  1063      -1   33 2014-10-21 03:00:00\n",
              "499997  1.311202e+19      0     3  1005  ...    39      -1   23 2014-10-21 03:00:00\n",
              "499998  1.311205e+19      0     3  1005  ...    39  100077  157 2014-10-21 03:00:00\n",
              "499999  1.311207e+18      1     3  1005  ...    39      -1   32 2014-10-21 03:00:00\n",
              "\n",
              "[500000 rows x 25 columns]"
            ]
          },
          "metadata": {},
          "execution_count": 17
        }
      ]
    },
    {
      "cell_type": "code",
      "metadata": {
        "colab": {
          "base_uri": "https://localhost:8080/"
        },
        "id": "bT2tRnzLCBEu",
        "outputId": "38e39501-9620-4070-a327-f1c492d0e131"
      },
      "source": [
        "DATA.nunique()\n"
      ],
      "execution_count": 18,
      "outputs": [
        {
          "output_type": "execute_result",
          "data": {
            "text/plain": [
              "id                  500000\n",
              "click                    2\n",
              "hour                     4\n",
              "C1                       7\n",
              "banner_pos               6\n",
              "site_id               1704\n",
              "site_domain           1586\n",
              "site_category           21\n",
              "app_id                1641\n",
              "app_domain             122\n",
              "app_category            20\n",
              "device_id            41413\n",
              "device_ip           171304\n",
              "device_model          3967\n",
              "device_type              4\n",
              "device_conn_type         4\n",
              "C14                    540\n",
              "C15                      8\n",
              "C16                      9\n",
              "C17                    154\n",
              "C18                      4\n",
              "C19                     40\n",
              "C20                    154\n",
              "C21                     34\n",
              "time                     4\n",
              "dtype: int64"
            ]
          },
          "metadata": {},
          "execution_count": 18
        }
      ]
    },
    {
      "cell_type": "code",
      "metadata": {
        "id": "wigHtsnGcZaC"
      },
      "source": [
        "DATA = DATA.drop(['id', 'site_id', 'site_domain', 'app_id', 'app_domain', 'device_id',\n",
        "       'device_ip','time'],axis=1)"
      ],
      "execution_count": 19,
      "outputs": []
    },
    {
      "cell_type": "code",
      "metadata": {
        "id": "UyCR_034e572"
      },
      "source": [
        "DATA = DATA.drop(['device_model'],axis=1)"
      ],
      "execution_count": 20,
      "outputs": []
    },
    {
      "cell_type": "markdown",
      "metadata": {
        "id": "VXNKiJuecsgZ"
      },
      "source": [
        "site id and site domain se better parameter is site category\n",
        "same for app"
      ]
    },
    {
      "cell_type": "code",
      "metadata": {
        "id": "E6KfnCN_anRz"
      },
      "source": [
        "DATA=pd.DataFrame(DATA,columns= [ 'click', 'hour', 'C1', 'banner_pos',\n",
        "       'site_category', 'app_category', 'device_type', 'device_conn_type', 'C14',\n",
        "       'C15', 'C16', 'C17', 'C18', 'C19', 'C20', 'C21'])"
      ],
      "execution_count": 21,
      "outputs": []
    },
    {
      "cell_type": "code",
      "metadata": {
        "id": "Vgp6kiTFYSOj"
      },
      "source": [
        "x=DATA.iloc[:,1:].values\n",
        "y=DATA.iloc[:,0].values"
      ],
      "execution_count": 22,
      "outputs": []
    },
    {
      "cell_type": "code",
      "metadata": {
        "id": "gR70tlciTWiL"
      },
      "source": [
        "from sklearn.model_selection import train_test_split\n",
        "x_train,x_test,y_train,y_test = train_test_split(x,y,test_size=0.3,random_state=9)\n"
      ],
      "execution_count": 23,
      "outputs": []
    },
    {
      "cell_type": "markdown",
      "metadata": {
        "id": "uZopsUJ-ZFkz"
      },
      "source": [
        "x : without id\n",
        "X : without device_ip and id"
      ]
    },
    {
      "cell_type": "code",
      "metadata": {
        "id": "lrnt4peXY4uo"
      },
      "source": [
        "x_train=pd.DataFrame(x_train,columns = [ 'hour', 'C1', 'banner_pos',\n",
        "       'site_category', 'app_category', 'device_type', 'device_conn_type', 'C14',\n",
        "       'C15', 'C16', 'C17', 'C18', 'C19', 'C20', 'C21'])"
      ],
      "execution_count": 24,
      "outputs": []
    },
    {
      "cell_type": "code",
      "metadata": {
        "id": "8ghbTFk4Y6Yx"
      },
      "source": [
        "x_test=pd.DataFrame(x_test,columns = [ 'hour', 'C1', 'banner_pos',\n",
        "       'site_category', 'app_category',  'device_type', 'device_conn_type', 'C14',\n",
        "       'C15', 'C16', 'C17', 'C18', 'C19', 'C20', 'C21'])"
      ],
      "execution_count": 25,
      "outputs": []
    },
    {
      "cell_type": "code",
      "metadata": {
        "id": "HX89TqerYlWS"
      },
      "source": [
        "x_train_dict = list(x_train.T.to_dict().values())\n",
        "x_test_dict = list(x_test.T.to_dict().values())\n",
        "\n"
      ],
      "execution_count": 26,
      "outputs": []
    },
    {
      "cell_type": "code",
      "metadata": {
        "colab": {
          "base_uri": "https://localhost:8080/"
        },
        "id": "JvgoWu8wbvO0",
        "outputId": "38631353-c26c-44d5-9ca5-b1f4fbad3681"
      },
      "source": [
        "x_train_dict[0]"
      ],
      "execution_count": 27,
      "outputs": [
        {
          "output_type": "execute_result",
          "data": {
            "text/plain": [
              "{'C1': 1005,\n",
              " 'C14': 15706,\n",
              " 'C15': 320,\n",
              " 'C16': 50,\n",
              " 'C17': 1722,\n",
              " 'C18': 0,\n",
              " 'C19': 35,\n",
              " 'C20': -1,\n",
              " 'C21': 79,\n",
              " 'app_category': '07d7df22',\n",
              " 'banner_pos': 0,\n",
              " 'device_conn_type': 0,\n",
              " 'device_type': 1,\n",
              " 'hour': 1,\n",
              " 'site_category': '28905ebd'}"
            ]
          },
          "metadata": {},
          "execution_count": 27
        }
      ]
    },
    {
      "cell_type": "code",
      "metadata": {
        "id": "gIUURmo0bhub"
      },
      "source": [
        "y_train=pd.DataFrame(y_train,columns = ['click'])\n",
        "y_test=pd.DataFrame(y_test,columns = ['click'])"
      ],
      "execution_count": 28,
      "outputs": []
    },
    {
      "cell_type": "code",
      "metadata": {
        "id": "s0jF72vOTWXK"
      },
      "source": [
        "from sklearn.feature_extraction import DictVectorizer\n",
        "\n",
        "vector = DictVectorizer(sparse=True)\n",
        "x_train = vectorizer.fit_transform(x_train_dict)\n",
        "x_test = vectorizer.transform(x_test_dict)"
      ],
      "execution_count": 29,
      "outputs": []
    },
    {
      "cell_type": "code",
      "metadata": {
        "id": "4BQcxKa7Czpk"
      },
      "source": [
        "import pickle\n",
        "with open('vectorizer.pkl', 'wb') as file:\n",
        "    pickle.dump(vectorizer, file)"
      ],
      "execution_count": 42,
      "outputs": []
    },
    {
      "cell_type": "code",
      "metadata": {
        "colab": {
          "base_uri": "https://localhost:8080/"
        },
        "id": "dL2_GCVqRfQx",
        "outputId": "6c993ad9-8bb8-4c63-cf64-d436614c73d8"
      },
      "source": [
        "x_train[0]"
      ],
      "execution_count": 43,
      "outputs": [
        {
          "output_type": "execute_result",
          "data": {
            "text/plain": [
              "<1x52 sparse matrix of type '<class 'numpy.float64'>'\n",
              "\twith 15 stored elements in Compressed Sparse Row format>"
            ]
          },
          "metadata": {},
          "execution_count": 43
        }
      ]
    },
    {
      "cell_type": "code",
      "metadata": {
        "id": "8NVCln05bqa2",
        "colab": {
          "base_uri": "https://localhost:8080/"
        },
        "outputId": "87747f1e-33b0-4e2e-bc7d-6d92c368f933"
      },
      "source": [
        "from sklearn.linear_model import LogisticRegression\n",
        "\n",
        "classifier = LogisticRegression()\n",
        "classifier.fit(x_train, y_train)"
      ],
      "execution_count": 44,
      "outputs": [
        {
          "output_type": "stream",
          "text": [
            "/usr/local/lib/python3.7/dist-packages/sklearn/utils/validation.py:760: DataConversionWarning: A column-vector y was passed when a 1d array was expected. Please change the shape of y to (n_samples, ), for example using ravel().\n",
            "  y = column_or_1d(y, warn=True)\n"
          ],
          "name": "stderr"
        },
        {
          "output_type": "execute_result",
          "data": {
            "text/plain": [
              "LogisticRegression(C=1.0, class_weight=None, dual=False, fit_intercept=True,\n",
              "                   intercept_scaling=1, l1_ratio=None, max_iter=100,\n",
              "                   multi_class='auto', n_jobs=None, penalty='l2',\n",
              "                   random_state=None, solver='lbfgs', tol=0.0001, verbose=0,\n",
              "                   warm_start=False)"
            ]
          },
          "metadata": {},
          "execution_count": 44
        }
      ]
    },
    {
      "cell_type": "code",
      "metadata": {
        "id": "Kh68uL41bupf"
      },
      "source": [
        "test_pred = classifier.predict(x_test)"
      ],
      "execution_count": 45,
      "outputs": []
    },
    {
      "cell_type": "code",
      "metadata": {
        "colab": {
          "base_uri": "https://localhost:8080/"
        },
        "id": "H4BkqA2Xbv6h",
        "outputId": "fe09d8dd-2658-44a5-e04e-788bbd13cab7"
      },
      "source": [
        "from sklearn.metrics import accuracy_score\n",
        "\n",
        "accuracy_score(y_test, test_pred)"
      ],
      "execution_count": 46,
      "outputs": [
        {
          "output_type": "execute_result",
          "data": {
            "text/plain": [
              "0.8351533333333333"
            ]
          },
          "metadata": {},
          "execution_count": 46
        }
      ]
    },
    {
      "cell_type": "code",
      "metadata": {
        "id": "y-bYOPg5hCo0"
      },
      "source": [
        "train_pred = classifier.predict(x_train)"
      ],
      "execution_count": 47,
      "outputs": []
    },
    {
      "cell_type": "code",
      "metadata": {
        "colab": {
          "base_uri": "https://localhost:8080/"
        },
        "id": "m6uaXvKBbwn7",
        "outputId": "a99f2c20-399f-467d-f85d-6a047700a3ca"
      },
      "source": [
        "from sklearn.metrics import classification_report,confusion_matrix\n",
        "\n",
        "print(classification_report(y_test,test_pred))\n",
        "print(classification_report(y_train,train_pred))"
      ],
      "execution_count": 48,
      "outputs": [
        {
          "output_type": "stream",
          "text": [
            "              precision    recall  f1-score   support\n",
            "\n",
            "           0       0.84      1.00      0.91    125456\n",
            "           1       0.30      0.01      0.01     24544\n",
            "\n",
            "    accuracy                           0.84    150000\n",
            "   macro avg       0.57      0.50      0.46    150000\n",
            "weighted avg       0.75      0.84      0.76    150000\n",
            "\n",
            "              precision    recall  f1-score   support\n",
            "\n",
            "           0       0.84      1.00      0.91    292507\n",
            "           1       0.34      0.01      0.01     57493\n",
            "\n",
            "    accuracy                           0.83    350000\n",
            "   macro avg       0.59      0.50      0.46    350000\n",
            "weighted avg       0.75      0.83      0.76    350000\n",
            "\n"
          ],
          "name": "stdout"
        }
      ]
    },
    {
      "cell_type": "code",
      "metadata": {
        "colab": {
          "base_uri": "https://localhost:8080/"
        },
        "id": "FfTmZSSBhRdP",
        "outputId": "252ecce7-c9f5-45b9-b0e7-4cff1b3d6060"
      },
      "source": [
        "from sklearn.metrics import confusion_matrix, accuracy_score\n",
        "cm = confusion_matrix(y_test, test_pred)\n",
        "print(cm)\n",
        "print(accuracy_score(y_test, test_pred))\n",
        "print(accuracy_score(y_train, train_pred))"
      ],
      "execution_count": 49,
      "outputs": [
        {
          "output_type": "stream",
          "text": [
            "[[125131    325]\n",
            " [ 24402    142]]\n",
            "0.8351533333333333\n",
            "0.8347228571428571\n"
          ],
          "name": "stdout"
        }
      ]
    },
    {
      "cell_type": "code",
      "metadata": {
        "id": "BkmStcPghjPc"
      },
      "source": [
        "pickle.dump(classifier,open('model.pkl','wb'))\n",
        "model=pickle.load(open('model.pkl','rb'))"
      ],
      "execution_count": 50,
      "outputs": []
    },
    {
      "cell_type": "code",
      "metadata": {
        "id": "lLXvmB-IH4eR"
      },
      "source": [
        ""
      ],
      "execution_count": null,
      "outputs": []
    }
  ]
}